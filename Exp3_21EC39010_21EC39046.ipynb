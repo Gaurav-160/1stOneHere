{
  "nbformat": 4,
  "nbformat_minor": 0,
  "metadata": {
    "colab": {
      "provenance": [],
      "include_colab_link": true
    },
    "kernelspec": {
      "name": "python3",
      "display_name": "Python 3"
    },
    "language_info": {
      "name": "python"
    }
  },
  "cells": [
    {
      "cell_type": "markdown",
      "metadata": {
        "id": "view-in-github",
        "colab_type": "text"
      },
      "source": [
        "<a href=\"https://colab.research.google.com/github/Gaurav-160/1stOneHere/blob/main/Exp3_21EC39010_21EC39046.ipynb\" target=\"_parent\"><img src=\"https://colab.research.google.com/assets/colab-badge.svg\" alt=\"Open In Colab\"/></a>"
      ]
    },
    {
      "cell_type": "markdown",
      "source": [
        "Importing Libraries"
      ],
      "metadata": {
        "id": "Q6uD3aSWvHdj"
      }
    },
    {
      "cell_type": "code",
      "source": [
        "import matplotlib.pyplot as plt\n",
        "import numpy as np\n",
        "import pandas as pd\n",
        "import cv2"
      ],
      "metadata": {
        "id": "OsE11s23w3xh"
      },
      "execution_count": null,
      "outputs": []
    },
    {
      "cell_type": "markdown",
      "source": [
        "Reading Images"
      ],
      "metadata": {
        "id": "cFT30Um1vZp7"
      }
    },
    {
      "cell_type": "code",
      "source": [
        "images = []\n",
        "\n",
        "for j in range(9):\n",
        "    img = cv2.imread(f'c{j + 1}.png', cv2.IMREAD_GRAYSCALE)  # Load directly in grayscale\n",
        "    images.append(img)\n",
        "\n",
        "z = pd.read_csv('z-dimension.csv')"
      ],
      "metadata": {
        "id": "NlEnMyHaqc5D"
      },
      "execution_count": null,
      "outputs": []
    },
    {
      "cell_type": "markdown",
      "source": [
        "Show Images"
      ],
      "metadata": {
        "id": "Tze54N_jvc2v"
      }
    },
    {
      "cell_type": "code",
      "source": [
        "for i, img in enumerate(images):\n",
        "    plt.subplot(3, 3, i + 1)\n",
        "    plt.imshow(img, cmap='gray')\n",
        "    plt.axis(\"off\")\n",
        "\n",
        "plt.show()"
      ],
      "metadata": {
        "colab": {
          "base_uri": "https://localhost:8080/",
          "height": 406
        },
        "id": "rbrRU1SW355y",
        "outputId": "3c018782-b84e-4f2b-bc9a-b06d1581a5df"
      },
      "execution_count": null,
      "outputs": [
        {
          "output_type": "display_data",
          "data": {
            "text/plain": [
              "<Figure size 640x480 with 9 Axes>"
            ],
            "image/png": "[encoded data removed]"
          },
          "metadata": {}
        }
      ]
    },
    {
      "cell_type": "markdown",
      "source": [
        "Detecting 4 corners of the image and two other points by setting intensity thresholds"
      ],
      "metadata": {
        "id": "LFf18LrNo2tk"
      }
    },
    {
      "cell_type": "code",
      "source": [
        "def detect(data, x, y):\n",
        "    height, width = data.shape\n",
        "\n",
        "    if (x, y) == (0, 0):  # Top-left dark corner\n",
        "        for i in range(height):\n",
        "            for j in range(width):\n",
        "                if data[i, j] < 30:\n",
        "                    return i, j\n",
        "\n",
        "    elif (x, y) == (0, 1):  # Top-right bright corner\n",
        "        for i in range(height):\n",
        "            for j in reversed(range(width)):  # Start from right\n",
        "                if data[i, j] > 190:\n",
        "                    return i, j\n",
        "\n",
        "    elif (x, y) == (1, 0):  # Bottom-left dark corner\n",
        "        for i in reversed(range(height)):  # Start from bottom\n",
        "            for j in range(width):\n",
        "                if data[i, j] < 30:\n",
        "                    return i, j\n",
        "\n",
        "    elif (x, y) == (1, 1):  # Bottom-right bright corner\n",
        "        for i in reversed(range(height)):  # bottom\n",
        "            for j in reversed(range(width)):  # right\n",
        "                if data[i, j] > 190:\n",
        "                    return i, j\n",
        "\n",
        "    elif (x, y) == (0, -1):  # Any bright pixel in the top-left region\n",
        "        for i in range(height):\n",
        "            for j in range(width):\n",
        "                if data[i, j] > 190:\n",
        "                    return i, j\n",
        "\n",
        "    elif (x, y) == (-1, 0):  # Any bright pixel in the leftmost column\n",
        "        for j in range(width):\n",
        "            for i in range(height):\n",
        "                if data[i, j] > 190:\n",
        "                    return i, j\n",
        "\n",
        "    return None  # Return None if no point is found"
      ],
      "metadata": {
        "id": "oE0BbCUN2r5p"
      },
      "execution_count": null,
      "outputs": []
    },
    {
      "cell_type": "markdown",
      "source": [
        "Define world coordinates of 6 points on image"
      ],
      "metadata": {
        "id": "aaG5mdHjBMGK"
      }
    },
    {
      "cell_type": "code",
      "source": [
        "# X = np.array([0, 250, 0, 250, 25, 0])\n",
        "# Y = np.array([0, 0, 175, 175, 0, 25])\n",
        "\n",
        "X = np.array([0, 250, 0, 250, 25, 0])\n",
        "Y = np.array([0, 0, 150, 150, 0, 25])\n",
        "\n",
        "for x, y in zip(X, Y):\n",
        "    print(f\"({x}, {y})\")"
      ],
      "metadata": {
        "colab": {
          "base_uri": "https://localhost:8080/"
        },
        "id": "JgIEoesUo7zB",
        "outputId": "451b636c-441a-45d4-a9dc-214891335f29"
      },
      "execution_count": null,
      "outputs": [
        {
          "output_type": "stream",
          "name": "stdout",
          "text": [
            "(0, 0)\n",
            "(250, 0)\n",
            "(0, 150)\n",
            "(250, 150)\n",
            "(25, 0)\n",
            "(0, 25)\n"
          ]
        }
      ]
    },
    {
      "cell_type": "code",
      "source": [
        "Z = np.zeros((9,))\n",
        "\n",
        "for i in range(9):\n",
        "  Z[i] = z.iloc[i,1]"
      ],
      "metadata": {
        "id": "q07X4CB3pHq3"
      },
      "execution_count": null,
      "outputs": []
    },
    {
      "cell_type": "markdown",
      "source": [
        "Calculate Image Points and Use SVD to calculate camera matrix"
      ],
      "metadata": {
        "id": "dEHuEij4G6bM"
      }
    },
    {
      "cell_type": "code",
      "source": [
        "U = np.zeros(6)\n",
        "V = np.zeros(6)\n",
        "M = []\n",
        "\n",
        "for k in range(9):\n",
        "    data = images[k]\n",
        "\n",
        "    detected_points = [(0, 0), (0, 1), (1, 0), (1, 1), (0, -1), (-1, 0)]\n",
        "\n",
        "    for i, (x, y) in enumerate(detected_points):\n",
        "        V[i], U[i] = detect(data, x, y)\n",
        "\n",
        "    # Construct the 12x12 matrix A\n",
        "    A = np.zeros((12, 12))\n",
        "\n",
        "    for i in range(6):\n",
        "        A[2 * i, :4] = [X[i], Y[i], Z[k], 1]\n",
        "        A[2 * i + 1, 4:8] = [X[i], Y[i], Z[k], 1]\n",
        "\n",
        "        A[2 * i, 8:] = -U[i] * np.array([X[i], Y[i], Z[k], 1])\n",
        "        A[2 * i + 1, 8:] = -V[i] * np.array([X[i], Y[i], Z[k], 1])\n",
        "\n",
        "    # svd\n",
        "    u, s, vh = np.linalg.svd(A, full_matrices=True)\n",
        "\n",
        "    # Extract the last row of Vh and reshape it into a 3x4 matrix\n",
        "    # print(vh[:,-1])\n",
        "    # print(vh[-1])\n",
        "    camera_matrix = np.reshape(vh[:,-1], (3, 4))\n",
        "    print(camera_matrix)\n",
        "    M.append(camera_matrix)\n",
        "\n",
        "    print(f\"\\nImage points for Image c{k+1}:\")\n",
        "    for i in range(len(U)):\n",
        "        print(f\"Point {i+1}: ({U[i]}, {V[i]})\")\n"
      ],
      "metadata": {
        "colab": {
          "base_uri": "https://localhost:8080/"
        },
        "id": "pwLNDP1dGfHX",
        "outputId": "4b77b7e6-90e5-423b-fab5-32b202e351b0"
      },
      "execution_count": null,
      "outputs": [
        {
          "output_type": "stream",
          "name": "stdout",
          "text": [
            "[ 2.18750439e-03  8.43590203e-04 -8.67821053e-04 -1.00422016e-06\n",
            " -4.50801966e-06  1.53754455e-06  1.58632520e-06 -3.99667940e-07\n",
            "  1.13769423e-06 -1.72036715e-03  9.94619017e-01  1.03555784e-01]\n",
            "[[-1.52585067e-15  3.22655165e-16 -1.84512287e-07  7.38049148e-05]\n",
            " [-6.96253881e-17 -1.42892886e-15  2.48655126e-03 -9.94620503e-01]\n",
            " [-1.03921105e-19  3.50297107e-19 -2.58889461e-04  1.03555784e-01]]\n",
            "\n",
            "Image points for Image c1:\n",
            "Point 1: (59.0, 201.0)\n",
            "Point 2: (947.0, 201.0)\n",
            "Point 3: (59.0, 822.0)\n",
            "Point 4: (947.0, 822.0)\n",
            "Point 5: (148.0, 201.0)\n",
            "Point 6: (59.0, 290.0)\n",
            "[ 1.84924965e-03  6.19823056e-04 -4.42786533e-04 -4.82964514e-07\n",
            " -3.86545344e-06  1.16555041e-06  1.32301320e-06 -3.02802214e-07\n",
            "  9.05543285e-07 -1.63704517e-03  9.99982630e-01  5.29719253e-03]\n",
            "[[ 5.30708643e-16 -3.24763606e-16 -1.51660362e-07  7.58301812e-05]\n",
            " [-4.27321730e-17  4.07328297e-16 -1.99996793e-03  9.99983967e-01]\n",
            " [-6.97446128e-20 -4.17023907e-19 -1.05943851e-05  5.29719253e-03]]\n",
            "\n",
            "Image points for Image c2:\n",
            "Point 1: (149.0, 263.0)\n",
            "Point 2: (859.0, 263.0)\n",
            "Point 3: (149.0, 760.0)\n",
            "Point 4: (859.0, 760.0)\n",
            "Point 5: (220.0, 263.0)\n",
            "Point 6: (149.0, 334.0)\n",
            "[ 1.58767842e-03  4.43000549e-04 -2.46546774e-04 -2.77157413e-07\n",
            " -3.12047296e-06  9.26013550e-07  1.09537016e-06 -2.40471977e-07\n",
            "  7.52501234e-07  3.36477045e-03  9.97656775e-01 -6.83144227e-02]\n",
            "[[-1.05140020e-15  1.96462670e-16  2.16058887e-07 -1.29635332e-04]\n",
            " [ 1.60868003e-17 -1.12565512e-15  1.66277073e-03 -9.97662440e-01]\n",
            " [ 4.16234810e-20  2.81888748e-19  1.13857371e-04 -6.83144227e-02]]\n",
            "\n",
            "Image points for Image c3:\n",
            "Point 1: (210.0, 305.0)\n",
            "Point 2: (801.0, 305.0)\n",
            "Point 3: (210.0, 718.0)\n",
            "Point 4: (801.0, 718.0)\n",
            "Point 5: (269.0, 305.0)\n",
            "Point 6: (210.0, 364.0)\n",
            "[ 1.38366657e-03  3.20327957e-04 -1.53819792e-04 -1.77495322e-07\n",
            " -2.55916655e-06  7.61093170e-07  9.12847094e-07 -2.03701055e-07\n",
            "  6.41310167e-07 -4.21749112e-04  9.99583265e-01  2.88284329e-02]\n",
            "[[-3.30379103e-17 -6.24255846e-18 -1.31959647e-07  9.23717531e-05]\n",
            " [-1.30938444e-16  1.00335555e-16 -1.42797621e-03  9.99583349e-01]\n",
            " [-2.42627238e-19 -3.07359148e-20 -4.11834755e-05  2.88284329e-02]]\n",
            "\n",
            "Image points for Image c4:\n",
            "Point 1: (253.0, 334.0)\n",
            "Point 2: (760.0, 334.0)\n",
            "Point 3: (253.0, 689.0)\n",
            "Point 4: (760.0, 689.0)\n",
            "Point 5: (304.0, 334.0)\n",
            "Point 6: (253.0, 385.0)\n",
            "[ 1.22263244e-03  2.38174120e-04 -1.04568548e-04 -1.23349798e-07\n",
            " -2.14875892e-06  6.43436809e-07  7.74495818e-07 -1.75622411e-07\n",
            "  5.58829689e-07  1.67725304e-03 -9.99670693e-01  2.55759512e-02]\n",
            "[[-3.53446889e-16  1.19748022e-16 -1.49215626e-07  1.19372501e-04]\n",
            " [-5.03908558e-17 -2.79045391e-16  1.24959012e-03 -9.99672093e-01]\n",
            " [-8.76814382e-20  1.83517962e-19 -3.19699389e-05  2.55759512e-02]]\n",
            "\n",
            "Image points for Image c5:\n",
            "Point 1: (285.0, 356.0)\n",
            "Point 2: (729.0, 356.0)\n",
            "Point 3: (285.0, 667.0)\n",
            "Point 4: (729.0, 667.0)\n",
            "Point 5: (330.0, 356.0)\n",
            "Point 6: (285.0, 401.0)\n",
            "[ 1.09345808e-03  1.82226076e-04 -7.55317592e-05 -9.08231710e-08\n",
            " -1.83902093e-06  5.57714065e-07  6.71756987e-07 -1.50043408e-07\n",
            "  4.96459775e-07 -1.12863024e-02 -9.98780862e-01 -4.80434603e-02]\n",
            "[[ 1.07587828e-15 -2.30784397e-16 -9.35898870e-07  8.42308983e-04]\n",
            " [-1.46984646e-16  1.16185151e-15 -1.10982697e-03  9.98844273e-01]\n",
            " [-2.07916294e-19 -3.66618758e-19  5.33816225e-05 -4.80434603e-02]]\n",
            "\n",
            "Image points for Image c6:\n",
            "Point 1: (311.0, 374.0)\n",
            "Point 2: (705.0, 374.0)\n",
            "Point 3: (311.0, 649.0)\n",
            "Point 4: (705.0, 649.0)\n",
            "Point 5: (350.0, 374.0)\n",
            "Point 6: (311.0, 413.0)\n",
            "[ 9.88048818e-04  1.43098332e-04 -5.72539528e-05 -6.95084010e-08\n",
            " -1.60478140e-06  4.90994082e-07  5.88955240e-07 -1.33579050e-07\n",
            "  4.46399246e-07  1.71428553e-02  9.98599005e-01  5.00514639e-02]\n",
            "[[ 1.93265549e-15 -1.57125779e-16 -8.10960152e-07  8.10960153e-04]\n",
            " [-2.89415872e-17  2.23876044e-15 -9.98745810e-04  9.98745810e-01]\n",
            " [-1.31361465e-19 -1.71672940e-19 -5.00514639e-05  5.00514639e-02]]\n",
            "\n",
            "Image points for Image c7:\n",
            "Point 1: (331.0, 388.0)\n",
            "Point 2: (685.0, 388.0)\n",
            "Point 3: (331.0, 635.0)\n",
            "Point 4: (685.0, 635.0)\n",
            "Point 5: (366.0, 388.0)\n",
            "Point 6: (331.0, 423.0)\n",
            "[ 9.00657118e-04  1.15032208e-04 -4.50252680e-05 -5.48195730e-08\n",
            " -1.42329520e-06  4.37283817e-07  5.21192784e-07 -1.21618915e-07\n",
            "  4.04469779e-07  7.27480068e-03 -9.99917714e-01 -1.05269249e-02]\n",
            "[[ 1.86275518e-16  1.13477058e-16 -4.36618615e-08  4.80280476e-05]\n",
            " [ 1.69528528e-16  1.28274449e-16 -9.09040160e-04  9.99944176e-01]\n",
            " [ 3.29350792e-19  1.99279973e-19  9.56993171e-06 -1.05269249e-02]]\n",
            "\n",
            "Image points for Image c8:\n",
            "Point 1: (347.0, 399.0)\n",
            "Point 2: (669.0, 399.0)\n",
            "Point 3: (347.0, 624.0)\n",
            "Point 4: (669.0, 624.0)\n",
            "Point 5: (379.0, 399.0)\n",
            "Point 6: (347.0, 431.0)\n",
            "[ 8.27186688e-04  9.42434181e-05 -3.63616782e-05 -4.37501094e-08\n",
            " -1.27639640e-06  3.93810709e-07  4.64562253e-07 -1.14256162e-07\n",
            "  3.69849977e-07  1.69317500e-02  9.99855447e-01  1.30635562e-03]\n",
            "[[-1.63345700e-15  4.60819654e-16 -5.89042783e-08  7.06851335e-05]\n",
            " [ 2.18499006e-17 -1.48336718e-15 -8.33332331e-04  9.99998797e-01]\n",
            " [ 4.34008798e-20  8.80565114e-19 -1.08862968e-06  1.30635562e-03]]\n",
            "\n",
            "Image points for Image c9:\n",
            "Point 1: (361.0, 408.0)\n",
            "Point 2: (656.0, 408.0)\n",
            "Point 3: (361.0, 615.0)\n",
            "Point 4: (656.0, 615.0)\n",
            "Point 5: (391.0, 408.0)\n",
            "Point 6: (361.0, 438.0)\n"
          ]
        }
      ]
    },
    {
      "cell_type": "code",
      "source": [
        "for i in range(9):\n",
        "  print(f\"\\nThe Camera matrix for Image c{i + 1} is :\")\n",
        "  print(M[i])"
      ],
      "metadata": {
        "colab": {
          "base_uri": "https://localhost:8080/"
        },
        "id": "6YGKjhCcqEb3",
        "outputId": "adb10224-ad2b-41a8-c480-5664125d4f0f"
      },
      "execution_count": null,
      "outputs": [
        {
          "output_type": "stream",
          "name": "stdout",
          "text": [
            "\n",
            "The Camera matrix for Image c1 is :\n",
            "[[-1.52585067e-15  3.22655165e-16 -1.84512287e-07  7.38049148e-05]\n",
            " [-6.96253881e-17 -1.42892886e-15  2.48655126e-03 -9.94620503e-01]\n",
            " [-1.03921105e-19  3.50297107e-19 -2.58889461e-04  1.03555784e-01]]\n",
            "\n",
            "The Camera matrix for Image c2 is :\n",
            "[[ 5.30708643e-16 -3.24763606e-16 -1.51660362e-07  7.58301812e-05]\n",
            " [-4.27321730e-17  4.07328297e-16 -1.99996793e-03  9.99983967e-01]\n",
            " [-6.97446128e-20 -4.17023907e-19 -1.05943851e-05  5.29719253e-03]]\n",
            "\n",
            "The Camera matrix for Image c3 is :\n",
            "[[-1.05140020e-15  1.96462670e-16  2.16058887e-07 -1.29635332e-04]\n",
            " [ 1.60868003e-17 -1.12565512e-15  1.66277073e-03 -9.97662440e-01]\n",
            " [ 4.16234810e-20  2.81888748e-19  1.13857371e-04 -6.83144227e-02]]\n",
            "\n",
            "The Camera matrix for Image c4 is :\n",
            "[[-3.30379103e-17 -6.24255846e-18 -1.31959647e-07  9.23717531e-05]\n",
            " [-1.30938444e-16  1.00335555e-16 -1.42797621e-03  9.99583349e-01]\n",
            " [-2.42627238e-19 -3.07359148e-20 -4.11834755e-05  2.88284329e-02]]\n",
            "\n",
            "The Camera matrix for Image c5 is :\n",
            "[[-3.53446889e-16  1.19748022e-16 -1.49215626e-07  1.19372501e-04]\n",
            " [-5.03908558e-17 -2.79045391e-16  1.24959012e-03 -9.99672093e-01]\n",
            " [-8.76814382e-20  1.83517962e-19 -3.19699389e-05  2.55759512e-02]]\n",
            "\n",
            "The Camera matrix for Image c6 is :\n",
            "[[ 1.07587828e-15 -2.30784397e-16 -9.35898870e-07  8.42308983e-04]\n",
            " [-1.46984646e-16  1.16185151e-15 -1.10982697e-03  9.98844273e-01]\n",
            " [-2.07916294e-19 -3.66618758e-19  5.33816225e-05 -4.80434603e-02]]\n",
            "\n",
            "The Camera matrix for Image c7 is :\n",
            "[[ 1.93265549e-15 -1.57125779e-16 -8.10960152e-07  8.10960153e-04]\n",
            " [-2.89415872e-17  2.23876044e-15 -9.98745810e-04  9.98745810e-01]\n",
            " [-1.31361465e-19 -1.71672940e-19 -5.00514639e-05  5.00514639e-02]]\n",
            "\n",
            "The Camera matrix for Image c8 is :\n",
            "[[ 1.86275518e-16  1.13477058e-16 -4.36618615e-08  4.80280476e-05]\n",
            " [ 1.69528528e-16  1.28274449e-16 -9.09040160e-04  9.99944176e-01]\n",
            " [ 3.29350792e-19  1.99279973e-19  9.56993171e-06 -1.05269249e-02]]\n",
            "\n",
            "The Camera matrix for Image c9 is :\n",
            "[[-1.63345700e-15  4.60819654e-16 -5.89042783e-08  7.06851335e-05]\n",
            " [ 2.18499006e-17 -1.48336718e-15 -8.33332331e-04  9.99998797e-01]\n",
            " [ 4.34008798e-20  8.80565114e-19 -1.08862968e-06  1.30635562e-03]]\n"
          ]
        }
      ]
    },
    {
      "cell_type": "markdown",
      "source": [
        "Calculate Intrinsic Camera Matrix using QR Decomposition\n"
      ],
      "metadata": {
        "id": "wclDrZG2qZRv"
      }
    },
    {
      "cell_type": "code",
      "source": [
        "from scipy import linalg\n",
        "\n",
        "# Extracting the 3x3 camera calibration matrix by removing the last column (Kt) from P = [KR | Kt]\n",
        "M_1 = [M[i][:, :-1] for i in range(len(M))]\n",
        "\n",
        "M_intrinsic = []  # List to store intrinsic matrices\n",
        "\n",
        "# QR decomposition on each camera matrix\n",
        "for i, M_i in enumerate(M_1):\n",
        "    R, Q = linalg.rq(M_i)\n",
        "    R /= R[2, 2]\n",
        "    M_intrinsic.append(R)\n",
        "\n",
        "    print(f\"\\nIntrinsic Camera Matrix for Image c{i+1}\")\n",
        "    print(R)"
      ],
      "metadata": {
        "colab": {
          "base_uri": "https://localhost:8080/"
        },
        "id": "_0E1VPUbIWiN",
        "outputId": "fc588e3b-5b6d-4e94-a8d6-9ac6a4dea4f6"
      },
      "execution_count": null,
      "outputs": [
        {
          "output_type": "stream",
          "name": "stdout",
          "text": [
            "\n",
            "Intrinsic Camera Matrix for Image c1\n",
            "[[-5.94827837e-12 -9.53150113e-13  7.12706830e-04]\n",
            " [ 0.00000000e+00  5.51321270e-12 -9.60468319e+00]\n",
            " [ 0.00000000e+00  0.00000000e+00  1.00000000e+00]]\n",
            "\n",
            "Intrinsic Camera Matrix for Image c2\n",
            "[[ 4.81398675e-11  3.36387062e-11  1.43151642e-02]\n",
            " [ 0.00000000e+00 -4.59631111e-11  1.88776217e+02]\n",
            " [ 0.00000000e+00  0.00000000e+00  1.00000000e+00]]\n",
            "\n",
            "Intrinsic Camera Matrix for Image c3\n",
            "[[ 9.20985738e-12  1.85185651e-12  1.89762757e-03]\n",
            " [-0.00000000e+00 -9.92362495e-12  1.46039797e+01]\n",
            " [-0.00000000e+00 -0.00000000e+00  1.00000000e+00]]\n",
            "\n",
            "Intrinsic Camera Matrix for Image c4\n",
            "[[-6.28228605e-13 -5.21363025e-13  3.20418919e-03]\n",
            " [ 0.00000000e+00 -3.86182284e-12  3.46735237e+01]\n",
            " [ 0.00000000e+00  0.00000000e+00  1.00000000e+00]]\n",
            "\n",
            "Intrinsic Camera Matrix for Image c5\n",
            "[[-1.15724873e-11 -1.52748802e-12  4.66737287e-03]\n",
            " [ 0.00000000e+00  8.66901476e-12 -3.90864092e+01]\n",
            " [ 0.00000000e+00  0.00000000e+00  1.00000000e+00]]\n",
            "\n",
            "Intrinsic Camera Matrix for Image c6\n",
            "[[-1.94214843e-11 -6.90635506e-12 -1.75322297e-02]\n",
            " [-0.00000000e+00  2.18072147e-11 -2.07904316e+01]\n",
            " [-0.00000000e+00 -0.00000000e+00  1.00000000e+00]]\n",
            "\n",
            "Intrinsic Camera Matrix for Image c7\n",
            "[[ 3.85739003e-11  3.59225257e-12  1.62025262e-02]\n",
            " [ 0.00000000e+00 -4.48006985e-11  1.99543776e+01]\n",
            " [ 0.00000000e+00  0.00000000e+00  1.00000000e+00]]\n",
            "\n",
            "Intrinsic Camera Matrix for Image c8\n",
            "[[-1.94427730e-12  2.27091524e-11 -4.56240053e-03]\n",
            " [-0.00000000e+00  2.60177284e-11 -9.49892003e+01]\n",
            " [-0.00000000e+00 -0.00000000e+00  1.00000000e+00]]\n",
            "\n",
            "Intrinsic Camera Matrix for Image c9\n",
            "[[-1.50268325e-09 -4.15343178e-10  5.41086461e-02]\n",
            " [ 0.00000000e+00  1.98181136e-09  7.65487423e+02]\n",
            " [ 0.00000000e+00  0.00000000e+00  1.00000000e+00]]\n"
          ]
        }
      ]
    },
    {
      "cell_type": "markdown",
      "source": [
        "Average Camera Matrix"
      ],
      "metadata": {
        "id": "ndI_vHnIJdfW"
      }
    },
    {
      "cell_type": "code",
      "source": [
        "avg_M = np.zeros(M_intrinsic[0].shape)\n",
        "for i in range(len(M_intrinsic)):\n",
        "  avg_M += M_intrinsic[i]\n",
        "\n",
        "average_M = avg_M/len(M_intrinsic)\n",
        "print(\"Average camera:\\n\")\n",
        "print(avg_M)"
      ],
      "metadata": {
        "colab": {
          "base_uri": "https://localhost:8080/"
        },
        "id": "5s8fyxIWqx_d",
        "outputId": "5b1d3490-270c-4eed-cd7a-6ec64b77d03b"
      },
      "execution_count": null,
      "outputs": [
        {
          "output_type": "stream",
          "name": "stdout",
          "text": [
            "Average camera:\n",
            "\n",
            "[[-1.44627438e-09 -3.63459567e-10  7.30136027e-02]\n",
            " [ 0.00000000e+00  1.93926927e-09  8.59024797e+02]\n",
            " [ 0.00000000e+00  0.00000000e+00  9.00000000e+00]]\n"
          ]
        }
      ]
    },
    {
      "cell_type": "code",
      "source": [],
      "metadata": {
        "id": "EqwezuDXJRH3"
      },
      "execution_count": null,
      "outputs": []
    }
  ]
}